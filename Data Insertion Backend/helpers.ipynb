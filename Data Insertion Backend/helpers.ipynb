{
 "cells": [
  {
   "cell_type": "markdown",
   "id": "723d37d0",
   "metadata": {},
   "source": [
    "CONNECTION TO DB"
   ]
  },
  {
   "cell_type": "code",
   "execution_count": 6,
   "id": "eb48763f",
   "metadata": {},
   "outputs": [],
   "source": [
    "import psycopg2\n",
    "from dotenv import load_dotenv\n",
    "import os\n",
    "\n",
    "# Load environment variables from .env file\n",
    "load_dotenv()\n",
    "conn = None  # Global connection variable store\n"
   ]
  },
  {
   "cell_type": "code",
   "execution_count": 7,
   "id": "bea7a805",
   "metadata": {},
   "outputs": [
    {
     "ename": "OperationalError",
     "evalue": "connection to server at \"srmist.cjwqmm4a21xa.ap-south-1.rds.amazonaws.com\" (15.206.226.50), port 5432 failed: Connection refused (0x0000274D/10061)\n\tIs the server running on that host and accepting TCP/IP connections?\n",
     "output_type": "error",
     "traceback": [
      "\u001b[31m---------------------------------------------------------------------------\u001b[39m",
      "\u001b[31mOperationalError\u001b[39m                          Traceback (most recent call last)",
      "\u001b[36mCell\u001b[39m\u001b[36m \u001b[39m\u001b[32mIn[7]\u001b[39m\u001b[32m, line 26\u001b[39m\n\u001b[32m     22\u001b[39m     \u001b[38;5;28;01mreturn\u001b[39;00m conn\n\u001b[32m     24\u001b[39m \u001b[38;5;66;03m# Usage example\u001b[39;00m\n\u001b[32m     25\u001b[39m \u001b[38;5;66;03m# Later, when you need a connection:\u001b[39;00m\n\u001b[32m---> \u001b[39m\u001b[32m26\u001b[39m conn = \u001b[43mconnect_db\u001b[49m\u001b[43m(\u001b[49m\u001b[43m)\u001b[49m\n",
      "\u001b[36mCell\u001b[39m\u001b[36m \u001b[39m\u001b[32mIn[7]\u001b[39m\u001b[32m, line 15\u001b[39m, in \u001b[36mconnect_db\u001b[39m\u001b[34m()\u001b[39m\n\u001b[32m     12\u001b[39m         conn = \u001b[38;5;28;01mNone\u001b[39;00m\n\u001b[32m     14\u001b[39m \u001b[38;5;66;03m# Create new connection if none exists or previous one failed\u001b[39;00m\n\u001b[32m---> \u001b[39m\u001b[32m15\u001b[39m conn = \u001b[43mpsycopg2\u001b[49m\u001b[43m.\u001b[49m\u001b[43mconnect\u001b[49m\u001b[43m(\u001b[49m\n\u001b[32m     16\u001b[39m \u001b[43m    \u001b[49m\u001b[43mhost\u001b[49m\u001b[43m=\u001b[49m\u001b[43mos\u001b[49m\u001b[43m.\u001b[49m\u001b[43mgetenv\u001b[49m\u001b[43m(\u001b[49m\u001b[33;43m\"\u001b[39;49m\u001b[33;43mDB_HOST\u001b[39;49m\u001b[33;43m\"\u001b[39;49m\u001b[43m)\u001b[49m\u001b[43m,\u001b[49m\n\u001b[32m     17\u001b[39m \u001b[43m    \u001b[49m\u001b[43mport\u001b[49m\u001b[43m=\u001b[49m\u001b[43mos\u001b[49m\u001b[43m.\u001b[49m\u001b[43mgetenv\u001b[49m\u001b[43m(\u001b[49m\u001b[33;43m\"\u001b[39;49m\u001b[33;43mDB_PORT\u001b[39;49m\u001b[33;43m\"\u001b[39;49m\u001b[43m)\u001b[49m\u001b[43m,\u001b[49m\n\u001b[32m     18\u001b[39m \u001b[43m    \u001b[49m\u001b[43mdbname\u001b[49m\u001b[43m=\u001b[49m\u001b[43mos\u001b[49m\u001b[43m.\u001b[49m\u001b[43mgetenv\u001b[49m\u001b[43m(\u001b[49m\u001b[33;43m\"\u001b[39;49m\u001b[33;43mDB_NAME\u001b[39;49m\u001b[33;43m\"\u001b[39;49m\u001b[43m)\u001b[49m\u001b[43m,\u001b[49m\n\u001b[32m     19\u001b[39m \u001b[43m    \u001b[49m\u001b[43muser\u001b[49m\u001b[43m=\u001b[49m\u001b[43mos\u001b[49m\u001b[43m.\u001b[49m\u001b[43mgetenv\u001b[49m\u001b[43m(\u001b[49m\u001b[33;43m\"\u001b[39;49m\u001b[33;43mDB_USER\u001b[39;49m\u001b[33;43m\"\u001b[39;49m\u001b[43m)\u001b[49m\u001b[43m,\u001b[49m\n\u001b[32m     20\u001b[39m \u001b[43m    \u001b[49m\u001b[43mpassword\u001b[49m\u001b[43m=\u001b[49m\u001b[43mos\u001b[49m\u001b[43m.\u001b[49m\u001b[43mgetenv\u001b[49m\u001b[43m(\u001b[49m\u001b[33;43m\"\u001b[39;49m\u001b[33;43mDB_PASSWORD\u001b[39;49m\u001b[33;43m\"\u001b[39;49m\u001b[43m)\u001b[49m\n\u001b[32m     21\u001b[39m \u001b[43m\u001b[49m\u001b[43m)\u001b[49m\n\u001b[32m     22\u001b[39m \u001b[38;5;28;01mreturn\u001b[39;00m conn\n",
      "\u001b[36mFile \u001b[39m\u001b[32mc:\\Users\\amsub\\miniconda3\\envs\\us_formualry\\Lib\\site-packages\\psycopg2\\__init__.py:135\u001b[39m, in \u001b[36mconnect\u001b[39m\u001b[34m(dsn, connection_factory, cursor_factory, **kwargs)\u001b[39m\n\u001b[32m    132\u001b[39m     kwasync[\u001b[33m'\u001b[39m\u001b[33masync_\u001b[39m\u001b[33m'\u001b[39m] = kwargs.pop(\u001b[33m'\u001b[39m\u001b[33masync_\u001b[39m\u001b[33m'\u001b[39m)\n\u001b[32m    134\u001b[39m dsn = _ext.make_dsn(dsn, **kwargs)\n\u001b[32m--> \u001b[39m\u001b[32m135\u001b[39m conn = \u001b[43m_connect\u001b[49m\u001b[43m(\u001b[49m\u001b[43mdsn\u001b[49m\u001b[43m,\u001b[49m\u001b[43m \u001b[49m\u001b[43mconnection_factory\u001b[49m\u001b[43m=\u001b[49m\u001b[43mconnection_factory\u001b[49m\u001b[43m,\u001b[49m\u001b[43m \u001b[49m\u001b[43m*\u001b[49m\u001b[43m*\u001b[49m\u001b[43mkwasync\u001b[49m\u001b[43m)\u001b[49m\n\u001b[32m    136\u001b[39m \u001b[38;5;28;01mif\u001b[39;00m cursor_factory \u001b[38;5;129;01mis\u001b[39;00m \u001b[38;5;129;01mnot\u001b[39;00m \u001b[38;5;28;01mNone\u001b[39;00m:\n\u001b[32m    137\u001b[39m     conn.cursor_factory = cursor_factory\n",
      "\u001b[31mOperationalError\u001b[39m: connection to server at \"srmist.cjwqmm4a21xa.ap-south-1.rds.amazonaws.com\" (15.206.226.50), port 5432 failed: Connection refused (0x0000274D/10061)\n\tIs the server running on that host and accepting TCP/IP connections?\n"
     ]
    }
   ],
   "source": [
    "def connect_db():\n",
    "    global conn\n",
    "    if conn is not None:\n",
    "        # Check if connection is still open\n",
    "        try:\n",
    "            cur = conn.cursor()\n",
    "            cur.execute('SELECT 1')\n",
    "            cur.close()\n",
    "            return conn  # Return existing valid connection\n",
    "        except (psycopg2.InterfaceError, psycopg2.OperationalError):\n",
    "            # Connection is closed or broken, so reset it\n",
    "            conn = None\n",
    "\n",
    "    # Create new connection if none exists or previous one failed\n",
    "    conn = psycopg2.connect(\n",
    "        host=os.getenv(\"DB_HOST\"),\n",
    "        port=os.getenv(\"DB_PORT\"),\n",
    "        dbname=os.getenv(\"DB_NAME\"),\n",
    "        user=os.getenv(\"DB_USER\"),\n",
    "        password=os.getenv(\"DB_PASSWORD\")\n",
    "    )\n",
    "    return conn\n",
    "\n",
    "# Usage example\n",
    "# Later, when you need a connection:\n",
    "conn = connect_db()"
   ]
  },
  {
   "cell_type": "markdown",
   "id": "e9d0f7b8",
   "metadata": {},
   "source": [
    "Connect and display structure and row count of all tables"
   ]
  },
  {
   "cell_type": "code",
   "execution_count": 4,
   "id": "5641811a",
   "metadata": {},
   "outputs": [
    {
     "name": "stdout",
     "output_type": "stream",
     "text": [
      "Table: geographic_locator\n",
      "  county_code (character varying)\n",
      "  statename (character varying)\n",
      "  county (character varying)\n",
      "  ma_region_code (character varying)\n",
      "  ma_region (character varying)\n",
      "  pdp_region_code (character varying)\n",
      "  pdp_region (character varying)\n",
      "Rows: 3279\n",
      "\n",
      "Table: basic_drugs_formulary\n",
      "  formulary_id (character varying)\n",
      "  formulary_version (integer)\n",
      "  contract_year (integer)\n",
      "  rxcui (integer)\n",
      "  ndc (character varying)\n",
      "  tier_level_value (integer)\n",
      "  quantity_limit_yn (character)\n",
      "  quantity_limit_amount (numeric)\n",
      "  quantity_limit_days (integer)\n",
      "  prior_authorization_yn (character)\n",
      "  step_therapy_yn (character)\n",
      "Rows: 1311783\n",
      "\n",
      "Table: prescribers_by_geography_drug\n",
      "  year (integer)\n",
      "  prscrbr_geo_lvl (character varying)\n",
      "  prscrbr_geo_cd (character varying)\n",
      "  prscrbr_geo_desc (character varying)\n",
      "  brnd_name (character varying)\n",
      "  gnrc_name (character varying)\n",
      "  tot_prscrbrs (integer)\n",
      "  tot_clms (integer)\n",
      "  tot_30day_fills (numeric)\n",
      "  tot_drug_cst (numeric)\n",
      "  tot_benes (integer)\n",
      "  ge65_sprsn_flag (character)\n",
      "  ge65_tot_clms (integer)\n",
      "  ge65_tot_30day_fills (numeric)\n",
      "  ge65_tot_drug_cst (numeric)\n",
      "  ge65_bene_sprsn_flag (character)\n",
      "  ge65_tot_benes (integer)\n",
      "  lis_bene_cst_shr (numeric)\n",
      "  nonlis_bene_cst_shr (numeric)\n",
      "  opioid_drug_flag (character)\n",
      "  opioid_la_drug_flag (character)\n",
      "  antbtc_drug_flag (character)\n",
      "  antpsyct_drug_flag (character)\n",
      "Rows: 641405\n",
      "\n",
      "Table: beneficiary_cost\n",
      "  contract_id (character varying)\n",
      "  plan_id (character varying)\n",
      "  segment_id (character varying)\n",
      "  coverage_level (integer)\n",
      "  tier (integer)\n",
      "  days_supply (integer)\n",
      "  cost_type_pref (integer)\n",
      "  cost_amt_pref (numeric)\n",
      "  cost_min_amt_pref (numeric)\n",
      "  cost_max_amt_pref (numeric)\n",
      "  cost_type_nonpref (integer)\n",
      "  cost_amt_nonpref (numeric)\n",
      "  cost_min_amt_nonpref (numeric)\n",
      "  cost_max_amt_nonpref (numeric)\n",
      "  cost_type_mail_pref (integer)\n",
      "  cost_amt_mail_pref (numeric)\n",
      "  cost_min_amt_mail_pref (numeric)\n",
      "  cost_max_amt_mail_pref (numeric)\n",
      "  cost_type_mail_nonpref (integer)\n",
      "  cost_amt_mail_nonpref (numeric)\n",
      "  cost_min_amt_mail_nonpref (numeric)\n",
      "  cost_max_amt_mail_nonpref (numeric)\n",
      "  tier_specialty_yn (character)\n",
      "  ded_applies_yn (character)\n",
      "Rows: 165070\n",
      "\n",
      "Table: plan_info\n",
      "  contract_id (character varying)\n",
      "  plan_id (character varying)\n",
      "  segment_id (character varying)\n",
      "  contract_name (character varying)\n",
      "  plan_name (character varying)\n",
      "  formulary_id (character varying)\n",
      "  premium (numeric)\n",
      "  deductible (integer)\n",
      "  ma_region_code (character varying)\n",
      "  pdp_region_code (character varying)\n",
      "  state (character)\n",
      "  county_code (character varying)\n",
      "  snp (integer)\n",
      "  plan_suppressed_yn (character)\n",
      "Rows: 115379\n",
      "\n",
      "Table: excluded_drugs_formulary\n",
      "  contract_id (character varying)\n",
      "  plan_id (character varying)\n",
      "  rxcui (integer)\n",
      "  tier (integer)\n",
      "  quantity_limit_yn (character)\n",
      "  quantity_limit_amount (integer)\n",
      "  quantity_limit_days (integer)\n",
      "  prior_auth_yn (character)\n",
      "  step_therapy_yn (character)\n",
      "  capped_benefit_yn (character)\n",
      "Rows: 14817\n",
      "\n",
      "Table: indication_based_coverage_formulary\n",
      "  contract_id (character varying)\n",
      "  plan_id (character varying)\n",
      "  rxcui (bigint)\n",
      "  disease (text)\n",
      "Rows: 650\n",
      "\n"
     ]
    }
   ],
   "source": [
    "# ------------- Connect and display structure and row count of all tables\n",
    "\n",
    "tables = [\n",
    "    \"geographic_locator\",\n",
    "\"basic_drugs_formulary\",\n",
    "# \"users\",\n",
    "\"prescribers_by_geography_drug\",\n",
    "\"beneficiary_cost\",\n",
    "\"plan_info\",\n",
    "\"excluded_drugs_formulary\",\n",
    "\"indication_based_coverage_formulary\"\n",
    "]\n",
    "\n",
    "conn = connect_db()\n",
    "\n",
    "cur = conn.cursor()\n",
    "\n",
    "for table in tables:\n",
    "    print(f\"Table: {table}\")\n",
    "    \n",
    "    # Get table structure: column names and data types\n",
    "    cur.execute(f\"\"\"\n",
    "        SELECT column_name, data_type\n",
    "        FROM information_schema.columns\n",
    "        WHERE table_name = '{table}'\n",
    "        ORDER BY ordinal_position\n",
    "    \"\"\")\n",
    "    columns = cur.fetchall()\n",
    "    \n",
    "    for col in columns:\n",
    "        print(f\"  {col[0]} ({col[1]})\")\n",
    "    \n",
    "    # Get row count\n",
    "    cur.execute(f\"SELECT COUNT(*) FROM {table}\")\n",
    "    row_count = cur.fetchone()[0]\n",
    "    print(f\"Rows: {row_count}\\n\")\n",
    "\n",
    "cur.close()\n",
    "conn.close()"
   ]
  },
  {
   "cell_type": "markdown",
   "id": "e88c6d91",
   "metadata": {},
   "source": [
    "VIEW DATABASE VERSION"
   ]
  },
  {
   "cell_type": "code",
   "execution_count": 12,
   "id": "edf32038",
   "metadata": {},
   "outputs": [
    {
     "name": "stdout",
     "output_type": "stream",
     "text": [
      "Database version: ('PostgreSQL 17.4 on aarch64-unknown-linux-gnu, compiled by gcc (GCC) 12.4.0, 64-bit',)\n"
     ]
    }
   ],
   "source": [
    "conn = connect_db()\n",
    "\n",
    "# Create a cursor to perform database operations\n",
    "cur = conn.cursor()\n",
    "\n",
    "# Example query\n",
    "cur.execute(\"SELECT version();\")\n",
    "result = cur.fetchone()\n",
    "print(\"Database version:\", result)\n",
    "\n",
    "# Clean up\n",
    "cur.close()\n",
    "conn.close()"
   ]
  },
  {
   "cell_type": "markdown",
   "id": "64de6da8",
   "metadata": {},
   "source": [
    "Connect and display all tables"
   ]
  },
  {
   "cell_type": "code",
   "execution_count": 4,
   "id": "28817bb5",
   "metadata": {},
   "outputs": [
    {
     "name": "stdout",
     "output_type": "stream",
     "text": [
      "geographic_locator\n",
      "basic_drugs_formulary\n",
      "users\n",
      "prescribers_by_geography_drug\n",
      "beneficiary_cost\n",
      "plan_info\n",
      "excluded_drugs_formulary\n",
      "indication_based_coverage_formulary\n"
     ]
    }
   ],
   "source": [
    "# ------------- Connect and display all tables\n",
    "conn = connect_db()\n",
    "\n",
    "cur = conn.cursor()\n",
    "\n",
    "# List all tables in the 'public' schema\n",
    "cur.execute(\"\"\"\n",
    "    SELECT table_name\n",
    "    FROM information_schema.tables\n",
    "    WHERE table_schema = 'public'\n",
    "\"\"\")\n",
    "\n",
    "tables = cur.fetchall()\n",
    "for table in tables:\n",
    "    print(table[0])\n",
    "\n",
    "cur.close()\n",
    "conn.close()"
   ]
  },
  {
   "cell_type": "markdown",
   "id": "938ff119",
   "metadata": {},
   "source": [
    "MODIFYING TABLE TO INCREASE VARCHAR LENGTH"
   ]
  },
  {
   "cell_type": "code",
   "execution_count": 6,
   "id": "78272a3f",
   "metadata": {},
   "outputs": [
    {
     "name": "stdout",
     "output_type": "stream",
     "text": [
      "('id', 'integer', None)\n",
      "('created_at', 'timestamp without time zone', None)\n",
      "('updated_at', 'timestamp without time zone', None)\n",
      "('oauth_provider', 'character varying', 50)\n",
      "('oauth_id', 'character varying', 200)\n",
      "('profile_pic_url', 'character varying', 500)\n",
      "('role', 'character varying', 50)\n",
      "('name', 'character varying', 100)\n",
      "('email', 'character varying', 150)\n"
     ]
    }
   ],
   "source": [
    "conn = connect_db()\n",
    "\n",
    "# Create a cursor to perform database operations\n",
    "cur = conn.cursor()\n",
    "\n",
    "\n",
    "\n",
    "# cur.execute(\"\"\"\n",
    "# ALTER TABLE geographic_locator \n",
    "#   ALTER COLUMN county_code TYPE varchar(500),\n",
    "#   ALTER COLUMN statename TYPE varchar(500),\n",
    "#   ALTER COLUMN county TYPE varchar(500),\n",
    "#   ALTER COLUMN ma_region_code TYPE varchar(500),\n",
    "#   ALTER COLUMN ma_region TYPE varchar(500),\n",
    "#   ALTER COLUMN pdp_region_code TYPE varchar(500),\n",
    "#   ALTER COLUMN pdp_region TYPE varchar(500);\n",
    "# \"\"\")\n",
    "\n",
    "# cur.execute(\"\"\"\n",
    "# ALTER TABLE basic_drugs_formulary \n",
    "# ALTER COLUMN QUANTITY_LIMIT_AMOUNT TYPE DECIMAL(7,2);\n",
    "# \"\"\")\n",
    "\n",
    "\n",
    "conn.commit()\n",
    "\n",
    "# Query for varchar columns and their max length\n",
    "cur.execute(\"\"\"\n",
    "    SELECT column_name, data_type, character_maximum_length\n",
    "    FROM information_schema.columns\n",
    "    WHERE table_name = 'users' \n",
    "\"\"\")\n",
    "\n",
    "for row in cur.fetchall():\n",
    "    print(row)  # Each row: (column_name, data_type, character_maximum_length)\n",
    "\n",
    "# Clean up\n",
    "# cur.close()\n",
    "conn.close()"
   ]
  },
  {
   "cell_type": "markdown",
   "id": "142d75b2",
   "metadata": {},
   "source": [
    "DELETING A TABLE"
   ]
  },
  {
   "cell_type": "code",
   "execution_count": 8,
   "id": "4fa7c5d4",
   "metadata": {},
   "outputs": [],
   "source": [
    "conn = connect_db()\n",
    "\n",
    "cur = conn.cursor()\n",
    "\n",
    "# Truncate the table\n",
    "cur.execute(\"DROP TABLE drugs_formulary_details CASCADE;\")\n",
    "\n",
    "# Commit your changes\n",
    "conn.commit()\n",
    "\n",
    "# Close the cursor and connection\n",
    "cur.close()\n",
    "conn.close()"
   ]
  },
  {
   "cell_type": "markdown",
   "id": "1899fb03",
   "metadata": {},
   "source": [
    "TRUNCATE THE TABLE"
   ]
  },
  {
   "cell_type": "code",
   "execution_count": 4,
   "id": "0d4eb9cc",
   "metadata": {},
   "outputs": [],
   "source": [
    "conn = connect_db()\n",
    "cursor = conn.cursor()\n",
    "\n",
    "# Truncate the table\n",
    "cursor.execute(\"TRUNCATE TABLE prescribers_by_geography_drug;\")\n",
    "\n",
    "# Commit your changes\n",
    "conn.commit()\n",
    "\n",
    "# Close the cursor and connection\n",
    "cursor.close()\n",
    "conn.close()"
   ]
  }
 ],
 "metadata": {
  "kernelspec": {
   "display_name": "us_formualry",
   "language": "python",
   "name": "python3"
  },
  "language_info": {
   "codemirror_mode": {
    "name": "ipython",
    "version": 3
   },
   "file_extension": ".py",
   "mimetype": "text/x-python",
   "name": "python",
   "nbconvert_exporter": "python",
   "pygments_lexer": "ipython3",
   "version": "3.13.5"
  }
 },
 "nbformat": 4,
 "nbformat_minor": 5
}
