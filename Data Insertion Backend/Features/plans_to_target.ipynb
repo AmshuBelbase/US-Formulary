{
 "cells": [
  {
   "cell_type": "code",
   "execution_count": 1,
   "id": "c6bca743",
   "metadata": {},
   "outputs": [],
   "source": [
    "# formulary_tier_landscape.py\n",
    "import os\n",
    "import psycopg2\n",
    "import pandas as pd\n",
    "import matplotlib.pyplot as plt\n",
    "import seaborn as sns\n",
    "from dotenv import load_dotenv\n",
    "\n",
    "# ---------------------------\n",
    "# 1) DB connection (your snippet)\n",
    "# ---------------------------\n",
    "load_dotenv()\n",
    "\n",
    "conn = psycopg2.connect(\n",
    "    host=os.getenv(\"DB_HOST\"),\n",
    "    port=os.getenv(\"DB_PORT\"),\n",
    "    dbname=os.getenv(\"DB_NAME\"),\n",
    "    user=os.getenv(\"DB_USER\"),\n",
    "    password=os.getenv(\"DB_PASSWORD\")\n",
    ")"
   ]
  },
  {
   "cell_type": "code",
   "execution_count": 2,
   "id": "027f5a3b",
   "metadata": {},
   "outputs": [],
   "source": [
    "# helper: run SQL and return pandas DataFrame\n",
    "def run_sql(sql: str) -> pd.DataFrame:\n",
    "    \"\"\"Execute SQL and return DataFrame.\"\"\"\n",
    "    return pd.read_sql_query(sql, conn)"
   ]
  },
  {
   "cell_type": "code",
   "execution_count": 3,
   "id": "3baa5e51",
   "metadata": {},
   "outputs": [],
   "source": [
    "# ---------------------------\n",
    "# 2) Basic config & assumptions\n",
    "# ---------------------------\n",
    "# tiers considered favorable (change if needed)\n",
    "favorable_tiers = [1, 2]\n",
    "\n",
    "# folder to save results\n",
    "OUT_DIR = \"formulary_outputs\"\n",
    "os.makedirs(OUT_DIR, exist_ok=True)"
   ]
  },
  {
   "cell_type": "code",
   "execution_count": 4,
   "id": "cd9163b5",
   "metadata": {},
   "outputs": [
    {
     "name": "stdout",
     "output_type": "stream",
     "text": [
      "Querying tier distribution by formulary_id & contract_year ...\n"
     ]
    },
    {
     "name": "stderr",
     "output_type": "stream",
     "text": [
      "C:\\Users\\amsub\\AppData\\Local\\Temp\\ipykernel_44120\\969165552.py:4: UserWarning: pandas only supports SQLAlchemy connectable (engine/connection) or database string URI or sqlite3 DBAPI2 connection. Other DBAPI2 objects are not tested. Please consider using SQLAlchemy.\n",
      "  return pd.read_sql_query(sql, conn)\n"
     ]
    },
    {
     "name": "stdout",
     "output_type": "stream",
     "text": [
      "Saved: tier_by_formulary_contractyear.csv (rows: 1576)\n"
     ]
    }
   ],
   "source": [
    "# ---------------------------\n",
    "# 3) Tier distribution by formulary_id and contract_year\n",
    "#    - counts and distinct RXCUI per tier\n",
    "# ---------------------------\n",
    "sql_formulary_year_tier = \"\"\"\n",
    "WITH base AS (\n",
    "  SELECT formulary_id,\n",
    "         contract_year,\n",
    "         COALESCE(tier_level_value, -1) AS tier_level_value,\n",
    "         rxcui\n",
    "  FROM basic_drugs_formulary\n",
    ")\n",
    "SELECT\n",
    "  formulary_id,\n",
    "  contract_year,\n",
    "  tier_level_value,\n",
    "  COUNT(*) AS rows_count,\n",
    "  COUNT(DISTINCT rxcui) AS distinct_rxcui\n",
    "FROM base\n",
    "GROUP BY formulary_id, contract_year, tier_level_value\n",
    "ORDER BY formulary_id, contract_year, tier_level_value;\n",
    "\"\"\"\n",
    "\n",
    "print(\"Querying tier distribution by formulary_id & contract_year ...\")\n",
    "df_formulary = run_sql(sql_formulary_year_tier)\n",
    "\n",
    "# compute percentages of distinct_rxcui within each (formulary_id, contract_year)\n",
    "df_formulary['distinct_rxcui'] = df_formulary['distinct_rxcui'].astype(int)\n",
    "df_formulary['pct_of_formulary'] = (\n",
    "    df_formulary\n",
    "    .groupby(['formulary_id', 'contract_year'])['distinct_rxcui']\n",
    "    .apply(lambda x: 100.0 * x / x.sum())\n",
    "    .reset_index(level=[0,1], drop=True)\n",
    ")\n",
    "\n",
    "# save\n",
    "df_formulary.to_csv(os.path.join(OUT_DIR, \"tier_by_formulary_contractyear.csv\"), index=False)\n",
    "print(\"Saved: tier_by_formulary_contractyear.csv (rows: {})\".format(len(df_formulary)))\n",
    "\n",
    "# Pivot example: each tier as column (distinct_rxcui)\n",
    "pivot_formulary = df_formulary.pivot_table(\n",
    "    index=['formulary_id','contract_year'],\n",
    "    columns='tier_level_value',\n",
    "    values='distinct_rxcui',\n",
    "    fill_value=0\n",
    ").reset_index()\n",
    "pivot_formulary.to_csv(os.path.join(OUT_DIR, \"pivot_formulary_contractyear_by_tier.csv\"), index=False)"
   ]
  },
  {
   "cell_type": "code",
   "execution_count": null,
   "id": "c61dd75a",
   "metadata": {},
   "outputs": [
    {
     "name": "stdout",
     "output_type": "stream",
     "text": [
      "Current work_mem: 4MB\n",
      "Current work_mem: 1GB\n",
      "Querying tier distribution by geography ...\n"
     ]
    },
    {
     "name": "stderr",
     "output_type": "stream",
     "text": [
      "C:\\Users\\amsub\\AppData\\Local\\Temp\\ipykernel_40412\\969165552.py:4: UserWarning: pandas only supports SQLAlchemy connectable (engine/connection) or database string URI or sqlite3 DBAPI2 connection. Other DBAPI2 objects are not tested. Please consider using SQLAlchemy.\n",
      "  return pd.read_sql_query(sql, conn)\n"
     ]
    },
    {
     "name": "stdout",
     "output_type": "stream",
     "text": [
      "Current work_mem: 1GB\n",
      "Current work_mem: 4MB\n",
      "Saved: tier_by_geo_state_county.csv (rows: 5000)\n"
     ]
    }
   ],
   "source": [
    "\n",
    "# # ---------------------------\n",
    "# # 4) Tier distribution by geography (state, county) and region codes\n",
    "# #    Join: basic_drugs_formulary -> plan_info (on formulary_id)\n",
    "# #          then plan_info -> geographic_locator (on county_code)\n",
    "# #    We compute: number of distinct plans with drug at given tier per county/state\n",
    "# # ---------------------------\n",
    "# sql_geo_tier = \"\"\"\n",
    "# SELECT\n",
    "#   pi.ma_region_code,\n",
    "#   pi.pdp_region_code,\n",
    "#   pi.state,\n",
    "#   pi.county_code,\n",
    "#   gl.statename AS geo_statename,\n",
    "#   gl.county AS geo_county_name,\n",
    "#   COALESCE(bd.tier_level_value, -1) AS tier_level_value,\n",
    "#   COUNT(DISTINCT pi.plan_id)      AS n_plans,\n",
    "#   COUNT(DISTINCT bd.rxcui)        AS distinct_rxcui\n",
    "# FROM basic_drugs_formulary bd\n",
    "# JOIN plan_info pi ON bd.formulary_id = pi.formulary_id\n",
    "# LEFT JOIN geographic_locator gl ON pi.county_code = gl.county_code\n",
    "# GROUP BY\n",
    "#   pi.ma_region_code, pi.pdp_region_code, pi.state, pi.county_code, gl.statename, gl.county, bd.tier_level_value\n",
    "# ORDER BY pi.state NULLS LAST, pi.county_code NULLS LAST, tier_level_value\n",
    "# LIMIT 5000;\n",
    "# \"\"\"\n",
    "\n",
    "# cur = conn.cursor()\n",
    "# cur.execute(\"SHOW work_mem;\")\n",
    "# current_value = cur.fetchone()[0]\n",
    "# print(\"Current work_mem:\", current_value)\n",
    "# # Set work_mem for this session\n",
    "# cur.execute(\"SET work_mem = '1024MB';\")\n",
    "# cur.execute(\"SHOW work_mem;\")\n",
    "# current_value = cur.fetchone()[0]\n",
    "# print(\"Current work_mem:\", current_value)\n",
    "\n",
    "# print(\"Querying tier distribution by geography ...\")\n",
    "# df_geo = run_sql(sql_geo_tier)\n",
    "\n",
    "# cur = conn.cursor()\n",
    "# cur.execute(\"SHOW work_mem;\")\n",
    "# current_value = cur.fetchone()[0]\n",
    "# print(\"Current work_mem:\", current_value)\n",
    "# # Set work_mem for this session\n",
    "# cur.execute(\"SET work_mem = '4MB';\")\n",
    "# cur.execute(\"SHOW work_mem;\")\n",
    "# current_value = cur.fetchone()[0]\n",
    "# print(\"Current work_mem:\", current_value)\n",
    "\n",
    "# # percentages of plans by tier within each (state, county)\n",
    "# df_geo['n_plans'] = df_geo['n_plans'].astype(int)\n",
    "# df_geo['distinct_rxcui'] = df_geo['distinct_rxcui'].astype(int)\n",
    "# df_geo['pct_plans_in_tier'] = (\n",
    "#     df_geo\n",
    "#     .groupby(['state','county_code'])['n_plans']\n",
    "#     .apply(lambda x: 100.0 * x / x.sum())   \n",
    "#     .reset_index(level=[0,1], drop=True)\n",
    "# )\n",
    "\n",
    "# df_geo.to_csv(os.path.join(OUT_DIR, \"tier_by_geo_state_county.csv\"), index=False)\n",
    "# print(\"Saved: tier_by_geo_state_county.csv (rows: {})\".format(len(df_geo)))"
   ]
  },
  {
   "cell_type": "code",
   "execution_count": null,
   "id": "0314ac40",
   "metadata": {},
   "outputs": [
    {
     "name": "stdout",
     "output_type": "stream",
     "text": [
      "Current work_mem: 4MB\n",
      "Current work_mem: 1GB\n",
      "Running the split aggregation query...\n",
      "Current work_mem: 1GB\n",
      "Current work_mem: 4MB\n",
      "Query returned 18753 rows\n",
      "  ma_region_code pdp_region_code state county_code geo_statename  \\\n",
      "0             07                                            None   \n",
      "1                             23                            None   \n",
      "2             15                                            None   \n",
      "3                             11                            None   \n",
      "4                             22                            None   \n",
      "\n",
      "  geo_county_name  tier_level_value  n_plans distinct_rxcui  \\\n",
      "0            None                 1        1            457   \n",
      "1            None                 1       15           3779   \n",
      "2            None                 1        4           1925   \n",
      "3            None                 1       14           3611   \n",
      "4            None                 1       15           3779   \n",
      "\n",
      "        pct_plans_in_tier  \n",
      "0  0.03949447077409162717  \n",
      "1  0.59241706161137440758  \n",
      "2  0.15797788309636650869  \n",
      "3  0.55292259083728278041  \n",
      "4  0.59241706161137440758  \n"
     ]
    }
   ],
   "source": [
    "# conn.autocommit = True\n",
    "cur = conn.cursor()\n",
    "\n",
    "sql_split_query = \"\"\"\n",
    "WITH bdf_agg AS (\n",
    "  SELECT formulary_id, tier_level_value,\n",
    "         COUNT(DISTINCT rxcui) AS distinct_rxcui_count\n",
    "  FROM basic_drugs_formulary\n",
    "  GROUP BY formulary_id, tier_level_value\n",
    "),\n",
    "plan_geo_agg AS (\n",
    "  SELECT pi.ma_region_code, pi.pdp_region_code, pi.state, pi.county_code,\n",
    "         gl.statename AS geo_statename, gl.county AS geo_county_name,\n",
    "         COALESCE(bdf_agg.tier_level_value, -1) AS tier_level_value,\n",
    "         COUNT(DISTINCT pi.plan_id) AS n_plans,\n",
    "         SUM(bdf_agg.distinct_rxcui_count) AS distinct_rxcui\n",
    "  FROM plan_info pi\n",
    "  JOIN bdf_agg ON pi.formulary_id = bdf_agg.formulary_id\n",
    "  LEFT JOIN geographic_locator gl ON pi.county_code = gl.county_code\n",
    "  GROUP BY pi.ma_region_code, pi.pdp_region_code, pi.state, pi.county_code,\n",
    "           gl.statename, gl.county, bdf_agg.tier_level_value\n",
    ")\n",
    "SELECT *,\n",
    "       n_plans * 100.0 / SUM(n_plans) OVER (PARTITION BY state, county_code) AS pct_plans_in_tier\n",
    "FROM plan_geo_agg\n",
    "ORDER BY state NULLS LAST, county_code NULLS LAST, tier_level_value\n",
    "\"\"\"\n",
    "# LIMIT 5000;\n",
    "\n",
    "\n",
    "cur = conn.cursor()\n",
    "cur.execute(\"SHOW work_mem;\")\n",
    "current_value = cur.fetchone()[0]\n",
    "print(\"Current work_mem:\", current_value)\n",
    "# Set work_mem for this session\n",
    "cur.execute(\"SET work_mem = '1024MB';\")\n",
    "cur.execute(\"SHOW work_mem;\")\n",
    "current_value = cur.fetchone()[0]\n",
    "print(\"Current work_mem:\", current_value)\n",
    "\n",
    "print(\"Running the split aggregation query...\")\n",
    "cur.execute(sql_split_query)\n",
    "rows = cur.fetchall()\n",
    "# Optional: get column names\n",
    "colnames = [desc[0] for desc in cur.description]\n",
    "\n",
    "cur = conn.cursor()\n",
    "cur.execute(\"SHOW work_mem;\")\n",
    "current_value = cur.fetchone()[0]\n",
    "print(\"Current work_mem:\", current_value)\n",
    "# Set work_mem for this session\n",
    "cur.execute(\"SET work_mem = '4MB';\")\n",
    "cur.execute(\"SHOW work_mem;\")\n",
    "current_value = cur.fetchone()[0]\n",
    "print(\"Current work_mem:\", current_value)\n",
    "\n",
    "\n",
    "\n",
    "\n",
    "# Convert to list of dicts or pandas DataFrame as needed\n",
    "import pandas as pd\n",
    "df = pd.DataFrame(rows, columns=colnames)\n",
    "\n",
    "print(f\"Query returned {len(df)} rows\")\n",
    "print(df.head())\n"
   ]
  },
  {
   "cell_type": "code",
   "execution_count": 14,
   "id": "a535ef31",
   "metadata": {},
   "outputs": [
    {
     "name": "stdout",
     "output_type": "stream",
     "text": [
      "Saved: tier_by_geo_state_county.csv (rows: 18753)\n"
     ]
    }
   ],
   "source": [
    "df.to_csv(os.path.join(OUT_DIR, \"tier_by_geo_state_county.csv\"), index=False)\n",
    "print(\"Saved: tier_by_geo_state_county.csv (rows: {})\".format(len(df)))"
   ]
  },
  {
   "cell_type": "code",
   "execution_count": 13,
   "id": "9e3dbb5d",
   "metadata": {},
   "outputs": [
    {
     "name": "stdout",
     "output_type": "stream",
     "text": [
      "Saved: state_tier_summary.csv (rows: 308)\n"
     ]
    }
   ],
   "source": [
    "# ---------------------------\n",
    "# 5) Aggregated summary by state (good for quick prioritization)\n",
    "# ---------------------------\n",
    "state_summary = (\n",
    "    df\n",
    "    .groupby(['state', 'tier_level_value'])\n",
    "    .agg(\n",
    "        total_plans_in_tier = ('n_plans', 'sum'),\n",
    "        distinct_rxcui = ('distinct_rxcui', 'sum')\n",
    "    )\n",
    "    .reset_index()\n",
    ")\n",
    "# compute percent of plans by tier per state\n",
    "state_summary['pct_plans_in_tier'] = (\n",
    "    state_summary.groupby('state')['total_plans_in_tier']\n",
    "    .transform(lambda x: 100.0 * x / x.sum())\n",
    ")\n",
    "state_summary.to_csv(os.path.join(OUT_DIR, \"state_tier_summary.csv\"), index=False)\n",
    "print(\"Saved: state_tier_summary.csv (rows: {})\".format(len(state_summary)))"
   ]
  },
  {
   "cell_type": "code",
   "execution_count": 15,
   "id": "2991aa5f",
   "metadata": {},
   "outputs": [
    {
     "name": "stdout",
     "output_type": "stream",
     "text": [
      "Preparing contract_year vs tier plot ...\n"
     ]
    },
    {
     "name": "stderr",
     "output_type": "stream",
     "text": [
      "C:\\Users\\amsub\\AppData\\Local\\Temp\\ipykernel_44120\\969165552.py:4: UserWarning: pandas only supports SQLAlchemy connectable (engine/connection) or database string URI or sqlite3 DBAPI2 connection. Other DBAPI2 objects are not tested. Please consider using SQLAlchemy.\n",
      "  return pd.read_sql_query(sql, conn)\n"
     ]
    },
    {
     "name": "stdout",
     "output_type": "stream",
     "text": [
      "Saved: contract_year_tier_stacked.png\n"
     ]
    }
   ],
   "source": [
    "# ---------------------------\n",
    "# 6) Quick charts: stacked bar of tier distribution over contract_year and by state\n",
    "# ---------------------------\n",
    "# 6a) Contract year vs tier (global)\n",
    "print(\"Preparing contract_year vs tier plot ...\")\n",
    "sql_year_tier = \"\"\"\n",
    "SELECT contract_year, COALESCE(tier_level_value, -1) AS tier_level_value,\n",
    "       COUNT(DISTINCT rxcui) AS distinct_rxcui\n",
    "FROM basic_drugs_formulary\n",
    "GROUP BY contract_year, COALESCE(tier_level_value, -1)\n",
    "ORDER BY contract_year, tier_level_value;\n",
    "\"\"\"\n",
    "df_year_tier = run_sql(sql_year_tier)\n",
    "df_year_tier['contract_year'] = df_year_tier['contract_year'].astype(int)\n",
    "pivot_year = df_year_tier.pivot(index='contract_year', columns='tier_level_value', values='distinct_rxcui').fillna(0)\n",
    "\n",
    "# plot stacked bar (contract_year)\n",
    "ax = pivot_year.plot(kind='bar', stacked=True, figsize=(12,6))\n",
    "ax.set_title(\"Distinct RXCUI counts by contract_year and tier_level\")\n",
    "ax.set_ylabel(\"Distinct RXCUI\")\n",
    "plt.tight_layout()\n",
    "plt.savefig(os.path.join(OUT_DIR, \"contract_year_tier_stacked.png\"))\n",
    "plt.close()\n",
    "print(\"Saved: contract_year_tier_stacked.png\")"
   ]
  },
  {
   "cell_type": "code",
   "execution_count": 16,
   "id": "1f1fa647",
   "metadata": {},
   "outputs": [
    {
     "name": "stdout",
     "output_type": "stream",
     "text": [
      "Preparing top states tier distribution plot ...\n",
      "Saved: top_states_tier_stacked.png\n"
     ]
    }
   ],
   "source": [
    "# 6b) State-level stacked bar (top 12 states by total plans)\n",
    "print(\"Preparing top states tier distribution plot ...\")\n",
    "state_total = state_summary.groupby('state')['total_plans_in_tier'].sum().reset_index().rename(columns={'total_plans_in_tier':'total_plans'})\n",
    "top_states = state_total.sort_values('total_plans', ascending=False).head(12)['state'].tolist()\n",
    "state_top_df = state_summary[state_summary['state'].isin(top_states)]\n",
    "pivot_state = state_top_df.pivot(index='state', columns='tier_level_value', values='total_plans_in_tier').fillna(0)\n",
    "ax = pivot_state.plot(kind='bar', stacked=True, figsize=(12,6))\n",
    "ax.set_title(\"Top 12 States: Distribution of Plans by Tier Level\")\n",
    "ax.set_ylabel(\"Number of Plans (in tier)\")\n",
    "plt.tight_layout()\n",
    "plt.savefig(os.path.join(OUT_DIR, \"top_states_tier_stacked.png\"))\n",
    "plt.close()\n",
    "print(\"Saved: top_states_tier_stacked.png\")"
   ]
  },
  {
   "cell_type": "code",
   "execution_count": 17,
   "id": "e0d09841",
   "metadata": {},
   "outputs": [
    {
     "name": "stdout",
     "output_type": "stream",
     "text": [
      "Computing top formularies with high share of unfavourable tiers...\n",
      "Saved: top_30_formularies_pct_unfavorable.csv\n"
     ]
    }
   ],
   "source": [
    "# ---------------------------\n",
    "# 7) Helpful ranking outputs\n",
    "#    - Top 30 formulary_ids with highest percent of drugs in unfavourable tiers\n",
    "# ---------------------------\n",
    "print(\"Computing top formularies with high share of unfavourable tiers...\")\n",
    "# define unfavourable tiers (example: >=3)\n",
    "unfavorable_mask = df_formulary['tier_level_value'] >= 3\n",
    "unfav_df = (\n",
    "    df_formulary[unfavorable_mask]\n",
    "    .groupby(['formulary_id','contract_year'])\n",
    "    .agg(unfav_distinct_rxcui=('distinct_rxcui','sum'))\n",
    "    .reset_index()\n",
    ")\n",
    "total_df = (\n",
    "    df_formulary\n",
    "    .groupby(['formulary_id','contract_year'])\n",
    "    .agg(total_distinct_rxcui=('distinct_rxcui','sum'))\n",
    "    .reset_index()\n",
    ")\n",
    "merged = fav = pd.merge(total_df, unfav_df, on=['formulary_id','contract_year'], how='left').fillna(0)\n",
    "merged['pct_unfavorable'] = merged['unfav_distinct_rxcui'] / merged['total_distinct_rxcui'] * 100.0\n",
    "top_problematic = merged.sort_values('pct_unfavorable', ascending=False).head(30)\n",
    "top_problematic.to_csv(os.path.join(OUT_DIR,\"top_30_formularies_pct_unfavorable.csv\"), index=False)\n",
    "print(\"Saved: top_30_formularies_pct_unfavorable.csv\")"
   ]
  },
  {
   "cell_type": "code",
   "execution_count": 18,
   "id": "34f5c7b8",
   "metadata": {},
   "outputs": [
    {
     "name": "stdout",
     "output_type": "stream",
     "text": [
      "Saved: counties_high_tier_majority.csv (rows: 0)\n"
     ]
    }
   ],
   "source": [
    "# ---------------------------\n",
    "# 8) Example outputs for quick manual review\n",
    "# ---------------------------\n",
    "# Save a sample of county-level rows where pct_plans_in_tier > 50 for a high tier (>=3)\n",
    "df_geo_high = df[(df['tier_level_value'] >= 3) & (df['pct_plans_in_tier'] > 50)]\n",
    "df_geo_high.sort_values(['state','pct_plans_in_tier'], ascending=[True, False]).to_csv(\n",
    "    os.path.join(OUT_DIR, \"counties_high_tier_majority.csv\"), index=False\n",
    ")\n",
    "print(\"Saved: counties_high_tier_majority.csv (rows: {})\".format(len(df_geo_high)))\n"
   ]
  },
  {
   "cell_type": "code",
   "execution_count": 19,
   "id": "f72d50ce",
   "metadata": {},
   "outputs": [
    {
     "name": "stdout",
     "output_type": "stream",
     "text": [
      "Done. Outputs written to 'formulary_outputs'.\n"
     ]
    }
   ],
   "source": [
    "# ---------------------------\n",
    "# 9) Wrap up & close connection\n",
    "# ---------------------------\n",
    "print(\"Done. Outputs written to '{}'.\".format(OUT_DIR))\n",
    "conn.close()"
   ]
  },
  {
   "cell_type": "code",
   "execution_count": 2,
   "id": "02c0d0bb",
   "metadata": {},
   "outputs": [
    {
     "name": "stderr",
     "output_type": "stream",
     "text": [
      "<>:6: SyntaxWarning: invalid escape sequence '\\F'\n",
      "<>:6: SyntaxWarning: invalid escape sequence '\\F'\n",
      "C:\\Users\\amsub\\AppData\\Local\\Temp\\ipykernel_53760\\1841559526.py:6: SyntaxWarning: invalid escape sequence '\\F'\n",
      "  file_path = 'Programs\\Features\\formulary_outputs\\tier_by_geo_state_county.csv'\n",
      "C:\\Users\\amsub\\AppData\\Local\\Temp\\ipykernel_53760\\1841559526.py:6: SyntaxWarning: invalid escape sequence '\\F'\n",
      "  file_path = 'Programs\\Features\\formulary_outputs\\tier_by_geo_state_county.csv'\n"
     ]
    },
    {
     "ename": "FileNotFoundError",
     "evalue": "[Errno 2] No such file or directory: 'Programs\\\\Features\\x0cormulary_outputs\\tier_by_geo_state_county.csv'",
     "output_type": "error",
     "traceback": [
      "\u001b[31m---------------------------------------------------------------------------\u001b[39m",
      "\u001b[31mFileNotFoundError\u001b[39m                         Traceback (most recent call last)",
      "\u001b[36mCell\u001b[39m\u001b[36m \u001b[39m\u001b[32mIn[2]\u001b[39m\u001b[32m, line 7\u001b[39m\n\u001b[32m      5\u001b[39m \u001b[38;5;66;03m# Load the data\u001b[39;00m\n\u001b[32m      6\u001b[39m file_path = \u001b[33m'\u001b[39m\u001b[33mPrograms\u001b[39m\u001b[33m\\\u001b[39m\u001b[33mFeatures\u001b[39m\u001b[38;5;130;01m\\f\u001b[39;00m\u001b[33mormulary_outputs\u001b[39m\u001b[38;5;130;01m\\t\u001b[39;00m\u001b[33mier_by_geo_state_county.csv\u001b[39m\u001b[33m'\u001b[39m\n\u001b[32m----> \u001b[39m\u001b[32m7\u001b[39m df = \u001b[43mpd\u001b[49m\u001b[43m.\u001b[49m\u001b[43mread_csv\u001b[49m\u001b[43m(\u001b[49m\u001b[43mfile_path\u001b[49m\u001b[43m)\u001b[49m\n\u001b[32m      9\u001b[39m \u001b[38;5;66;03m# Drop rows with missing tier_level_value for better visualization\u001b[39;00m\n\u001b[32m     10\u001b[39m df_clean = df.dropna(subset=[\u001b[33m'\u001b[39m\u001b[33mtier_level_value\u001b[39m\u001b[33m'\u001b[39m])\n",
      "\u001b[36mFile \u001b[39m\u001b[32mc:\\Users\\amsub\\miniconda3\\envs\\us_formualry\\Lib\\site-packages\\pandas\\io\\parsers\\readers.py:1026\u001b[39m, in \u001b[36mread_csv\u001b[39m\u001b[34m(filepath_or_buffer, sep, delimiter, header, names, index_col, usecols, dtype, engine, converters, true_values, false_values, skipinitialspace, skiprows, skipfooter, nrows, na_values, keep_default_na, na_filter, verbose, skip_blank_lines, parse_dates, infer_datetime_format, keep_date_col, date_parser, date_format, dayfirst, cache_dates, iterator, chunksize, compression, thousands, decimal, lineterminator, quotechar, quoting, doublequote, escapechar, comment, encoding, encoding_errors, dialect, on_bad_lines, delim_whitespace, low_memory, memory_map, float_precision, storage_options, dtype_backend)\u001b[39m\n\u001b[32m   1013\u001b[39m kwds_defaults = _refine_defaults_read(\n\u001b[32m   1014\u001b[39m     dialect,\n\u001b[32m   1015\u001b[39m     delimiter,\n\u001b[32m   (...)\u001b[39m\u001b[32m   1022\u001b[39m     dtype_backend=dtype_backend,\n\u001b[32m   1023\u001b[39m )\n\u001b[32m   1024\u001b[39m kwds.update(kwds_defaults)\n\u001b[32m-> \u001b[39m\u001b[32m1026\u001b[39m \u001b[38;5;28;01mreturn\u001b[39;00m \u001b[43m_read\u001b[49m\u001b[43m(\u001b[49m\u001b[43mfilepath_or_buffer\u001b[49m\u001b[43m,\u001b[49m\u001b[43m \u001b[49m\u001b[43mkwds\u001b[49m\u001b[43m)\u001b[49m\n",
      "\u001b[36mFile \u001b[39m\u001b[32mc:\\Users\\amsub\\miniconda3\\envs\\us_formualry\\Lib\\site-packages\\pandas\\io\\parsers\\readers.py:620\u001b[39m, in \u001b[36m_read\u001b[39m\u001b[34m(filepath_or_buffer, kwds)\u001b[39m\n\u001b[32m    617\u001b[39m _validate_names(kwds.get(\u001b[33m\"\u001b[39m\u001b[33mnames\u001b[39m\u001b[33m\"\u001b[39m, \u001b[38;5;28;01mNone\u001b[39;00m))\n\u001b[32m    619\u001b[39m \u001b[38;5;66;03m# Create the parser.\u001b[39;00m\n\u001b[32m--> \u001b[39m\u001b[32m620\u001b[39m parser = \u001b[43mTextFileReader\u001b[49m\u001b[43m(\u001b[49m\u001b[43mfilepath_or_buffer\u001b[49m\u001b[43m,\u001b[49m\u001b[43m \u001b[49m\u001b[43m*\u001b[49m\u001b[43m*\u001b[49m\u001b[43mkwds\u001b[49m\u001b[43m)\u001b[49m\n\u001b[32m    622\u001b[39m \u001b[38;5;28;01mif\u001b[39;00m chunksize \u001b[38;5;129;01mor\u001b[39;00m iterator:\n\u001b[32m    623\u001b[39m     \u001b[38;5;28;01mreturn\u001b[39;00m parser\n",
      "\u001b[36mFile \u001b[39m\u001b[32mc:\\Users\\amsub\\miniconda3\\envs\\us_formualry\\Lib\\site-packages\\pandas\\io\\parsers\\readers.py:1620\u001b[39m, in \u001b[36mTextFileReader.__init__\u001b[39m\u001b[34m(self, f, engine, **kwds)\u001b[39m\n\u001b[32m   1617\u001b[39m     \u001b[38;5;28mself\u001b[39m.options[\u001b[33m\"\u001b[39m\u001b[33mhas_index_names\u001b[39m\u001b[33m\"\u001b[39m] = kwds[\u001b[33m\"\u001b[39m\u001b[33mhas_index_names\u001b[39m\u001b[33m\"\u001b[39m]\n\u001b[32m   1619\u001b[39m \u001b[38;5;28mself\u001b[39m.handles: IOHandles | \u001b[38;5;28;01mNone\u001b[39;00m = \u001b[38;5;28;01mNone\u001b[39;00m\n\u001b[32m-> \u001b[39m\u001b[32m1620\u001b[39m \u001b[38;5;28mself\u001b[39m._engine = \u001b[38;5;28;43mself\u001b[39;49m\u001b[43m.\u001b[49m\u001b[43m_make_engine\u001b[49m\u001b[43m(\u001b[49m\u001b[43mf\u001b[49m\u001b[43m,\u001b[49m\u001b[43m \u001b[49m\u001b[38;5;28;43mself\u001b[39;49m\u001b[43m.\u001b[49m\u001b[43mengine\u001b[49m\u001b[43m)\u001b[49m\n",
      "\u001b[36mFile \u001b[39m\u001b[32mc:\\Users\\amsub\\miniconda3\\envs\\us_formualry\\Lib\\site-packages\\pandas\\io\\parsers\\readers.py:1880\u001b[39m, in \u001b[36mTextFileReader._make_engine\u001b[39m\u001b[34m(self, f, engine)\u001b[39m\n\u001b[32m   1878\u001b[39m     \u001b[38;5;28;01mif\u001b[39;00m \u001b[33m\"\u001b[39m\u001b[33mb\u001b[39m\u001b[33m\"\u001b[39m \u001b[38;5;129;01mnot\u001b[39;00m \u001b[38;5;129;01min\u001b[39;00m mode:\n\u001b[32m   1879\u001b[39m         mode += \u001b[33m\"\u001b[39m\u001b[33mb\u001b[39m\u001b[33m\"\u001b[39m\n\u001b[32m-> \u001b[39m\u001b[32m1880\u001b[39m \u001b[38;5;28mself\u001b[39m.handles = \u001b[43mget_handle\u001b[49m\u001b[43m(\u001b[49m\n\u001b[32m   1881\u001b[39m \u001b[43m    \u001b[49m\u001b[43mf\u001b[49m\u001b[43m,\u001b[49m\n\u001b[32m   1882\u001b[39m \u001b[43m    \u001b[49m\u001b[43mmode\u001b[49m\u001b[43m,\u001b[49m\n\u001b[32m   1883\u001b[39m \u001b[43m    \u001b[49m\u001b[43mencoding\u001b[49m\u001b[43m=\u001b[49m\u001b[38;5;28;43mself\u001b[39;49m\u001b[43m.\u001b[49m\u001b[43moptions\u001b[49m\u001b[43m.\u001b[49m\u001b[43mget\u001b[49m\u001b[43m(\u001b[49m\u001b[33;43m\"\u001b[39;49m\u001b[33;43mencoding\u001b[39;49m\u001b[33;43m\"\u001b[39;49m\u001b[43m,\u001b[49m\u001b[43m \u001b[49m\u001b[38;5;28;43;01mNone\u001b[39;49;00m\u001b[43m)\u001b[49m\u001b[43m,\u001b[49m\n\u001b[32m   1884\u001b[39m \u001b[43m    \u001b[49m\u001b[43mcompression\u001b[49m\u001b[43m=\u001b[49m\u001b[38;5;28;43mself\u001b[39;49m\u001b[43m.\u001b[49m\u001b[43moptions\u001b[49m\u001b[43m.\u001b[49m\u001b[43mget\u001b[49m\u001b[43m(\u001b[49m\u001b[33;43m\"\u001b[39;49m\u001b[33;43mcompression\u001b[39;49m\u001b[33;43m\"\u001b[39;49m\u001b[43m,\u001b[49m\u001b[43m \u001b[49m\u001b[38;5;28;43;01mNone\u001b[39;49;00m\u001b[43m)\u001b[49m\u001b[43m,\u001b[49m\n\u001b[32m   1885\u001b[39m \u001b[43m    \u001b[49m\u001b[43mmemory_map\u001b[49m\u001b[43m=\u001b[49m\u001b[38;5;28;43mself\u001b[39;49m\u001b[43m.\u001b[49m\u001b[43moptions\u001b[49m\u001b[43m.\u001b[49m\u001b[43mget\u001b[49m\u001b[43m(\u001b[49m\u001b[33;43m\"\u001b[39;49m\u001b[33;43mmemory_map\u001b[39;49m\u001b[33;43m\"\u001b[39;49m\u001b[43m,\u001b[49m\u001b[43m \u001b[49m\u001b[38;5;28;43;01mFalse\u001b[39;49;00m\u001b[43m)\u001b[49m\u001b[43m,\u001b[49m\n\u001b[32m   1886\u001b[39m \u001b[43m    \u001b[49m\u001b[43mis_text\u001b[49m\u001b[43m=\u001b[49m\u001b[43mis_text\u001b[49m\u001b[43m,\u001b[49m\n\u001b[32m   1887\u001b[39m \u001b[43m    \u001b[49m\u001b[43merrors\u001b[49m\u001b[43m=\u001b[49m\u001b[38;5;28;43mself\u001b[39;49m\u001b[43m.\u001b[49m\u001b[43moptions\u001b[49m\u001b[43m.\u001b[49m\u001b[43mget\u001b[49m\u001b[43m(\u001b[49m\u001b[33;43m\"\u001b[39;49m\u001b[33;43mencoding_errors\u001b[39;49m\u001b[33;43m\"\u001b[39;49m\u001b[43m,\u001b[49m\u001b[43m \u001b[49m\u001b[33;43m\"\u001b[39;49m\u001b[33;43mstrict\u001b[39;49m\u001b[33;43m\"\u001b[39;49m\u001b[43m)\u001b[49m\u001b[43m,\u001b[49m\n\u001b[32m   1888\u001b[39m \u001b[43m    \u001b[49m\u001b[43mstorage_options\u001b[49m\u001b[43m=\u001b[49m\u001b[38;5;28;43mself\u001b[39;49m\u001b[43m.\u001b[49m\u001b[43moptions\u001b[49m\u001b[43m.\u001b[49m\u001b[43mget\u001b[49m\u001b[43m(\u001b[49m\u001b[33;43m\"\u001b[39;49m\u001b[33;43mstorage_options\u001b[39;49m\u001b[33;43m\"\u001b[39;49m\u001b[43m,\u001b[49m\u001b[43m \u001b[49m\u001b[38;5;28;43;01mNone\u001b[39;49;00m\u001b[43m)\u001b[49m\u001b[43m,\u001b[49m\n\u001b[32m   1889\u001b[39m \u001b[43m\u001b[49m\u001b[43m)\u001b[49m\n\u001b[32m   1890\u001b[39m \u001b[38;5;28;01massert\u001b[39;00m \u001b[38;5;28mself\u001b[39m.handles \u001b[38;5;129;01mis\u001b[39;00m \u001b[38;5;129;01mnot\u001b[39;00m \u001b[38;5;28;01mNone\u001b[39;00m\n\u001b[32m   1891\u001b[39m f = \u001b[38;5;28mself\u001b[39m.handles.handle\n",
      "\u001b[36mFile \u001b[39m\u001b[32mc:\\Users\\amsub\\miniconda3\\envs\\us_formualry\\Lib\\site-packages\\pandas\\io\\common.py:873\u001b[39m, in \u001b[36mget_handle\u001b[39m\u001b[34m(path_or_buf, mode, encoding, compression, memory_map, is_text, errors, storage_options)\u001b[39m\n\u001b[32m    868\u001b[39m \u001b[38;5;28;01melif\u001b[39;00m \u001b[38;5;28misinstance\u001b[39m(handle, \u001b[38;5;28mstr\u001b[39m):\n\u001b[32m    869\u001b[39m     \u001b[38;5;66;03m# Check whether the filename is to be opened in binary mode.\u001b[39;00m\n\u001b[32m    870\u001b[39m     \u001b[38;5;66;03m# Binary mode does not support 'encoding' and 'newline'.\u001b[39;00m\n\u001b[32m    871\u001b[39m     \u001b[38;5;28;01mif\u001b[39;00m ioargs.encoding \u001b[38;5;129;01mand\u001b[39;00m \u001b[33m\"\u001b[39m\u001b[33mb\u001b[39m\u001b[33m\"\u001b[39m \u001b[38;5;129;01mnot\u001b[39;00m \u001b[38;5;129;01min\u001b[39;00m ioargs.mode:\n\u001b[32m    872\u001b[39m         \u001b[38;5;66;03m# Encoding\u001b[39;00m\n\u001b[32m--> \u001b[39m\u001b[32m873\u001b[39m         handle = \u001b[38;5;28;43mopen\u001b[39;49m\u001b[43m(\u001b[49m\n\u001b[32m    874\u001b[39m \u001b[43m            \u001b[49m\u001b[43mhandle\u001b[49m\u001b[43m,\u001b[49m\n\u001b[32m    875\u001b[39m \u001b[43m            \u001b[49m\u001b[43mioargs\u001b[49m\u001b[43m.\u001b[49m\u001b[43mmode\u001b[49m\u001b[43m,\u001b[49m\n\u001b[32m    876\u001b[39m \u001b[43m            \u001b[49m\u001b[43mencoding\u001b[49m\u001b[43m=\u001b[49m\u001b[43mioargs\u001b[49m\u001b[43m.\u001b[49m\u001b[43mencoding\u001b[49m\u001b[43m,\u001b[49m\n\u001b[32m    877\u001b[39m \u001b[43m            \u001b[49m\u001b[43merrors\u001b[49m\u001b[43m=\u001b[49m\u001b[43merrors\u001b[49m\u001b[43m,\u001b[49m\n\u001b[32m    878\u001b[39m \u001b[43m            \u001b[49m\u001b[43mnewline\u001b[49m\u001b[43m=\u001b[49m\u001b[33;43m\"\u001b[39;49m\u001b[33;43m\"\u001b[39;49m\u001b[43m,\u001b[49m\n\u001b[32m    879\u001b[39m \u001b[43m        \u001b[49m\u001b[43m)\u001b[49m\n\u001b[32m    880\u001b[39m     \u001b[38;5;28;01melse\u001b[39;00m:\n\u001b[32m    881\u001b[39m         \u001b[38;5;66;03m# Binary mode\u001b[39;00m\n\u001b[32m    882\u001b[39m         handle = \u001b[38;5;28mopen\u001b[39m(handle, ioargs.mode)\n",
      "\u001b[31mFileNotFoundError\u001b[39m: [Errno 2] No such file or directory: 'Programs\\\\Features\\x0cormulary_outputs\\tier_by_geo_state_county.csv'"
     ]
    }
   ],
   "source": [
    "import pandas as pd\n",
    "import matplotlib.pyplot as plt\n",
    "import seaborn as sns\n",
    "\n",
    "# Load the data\n",
    "file_path = 'Programs\\Features\\formulary_outputs\\tier_by_geo_state_county.csv'\n",
    "df = pd.read_csv(file_path)\n",
    "\n",
    "# Drop rows with missing tier_level_value for better visualization\n",
    "df_clean = df.dropna(subset=['tier_level_value'])\n",
    "\n",
    "# Convert tier_level_value to integer for plotting\n",
    "df_clean['tier_level_value'] = df_clean['tier_level_value'].astype(int)\n",
    "\n",
    "# Plot number of plans by tier level using a bar plot\n",
    "plt.figure(figsize=(12, 6))\n",
    "sns.barplot(x='tier_level_value', y='n_plans', data=df_clean, ci=None)\n",
    "plt.title('Number of Plans by Tier Level')\n",
    "plt.xlabel('Tier Level')\n",
    "plt.ylabel('Number of Plans')\n",
    "plt.show()\n"
   ]
  }
 ],
 "metadata": {
  "kernelspec": {
   "display_name": "us_formualry",
   "language": "python",
   "name": "python3"
  },
  "language_info": {
   "codemirror_mode": {
    "name": "ipython",
    "version": 3
   },
   "file_extension": ".py",
   "mimetype": "text/x-python",
   "name": "python",
   "nbconvert_exporter": "python",
   "pygments_lexer": "ipython3",
   "version": "3.13.5"
  }
 },
 "nbformat": 4,
 "nbformat_minor": 5
}
