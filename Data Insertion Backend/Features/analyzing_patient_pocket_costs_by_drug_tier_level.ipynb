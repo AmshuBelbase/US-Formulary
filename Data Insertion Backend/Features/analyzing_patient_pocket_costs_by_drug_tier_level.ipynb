{
 "cells": [
  {
   "cell_type": "markdown",
   "id": "6f623be8",
   "metadata": {},
   "source": [
    "## FEATURE 1\n",
    "\n",
    "How does the average patient out-of-pocket cost change across drug tiers?\n",
    "(This helps reveal whether lower tiers are consistently associated with greater affordability for patients compared to higher tiers).\n",
    "\n",
    "Are certain pharmacy types (preferred, non-preferred, mail order) systematically less expensive for patients across all drug tiers, or only for specific tiers?\n",
    "(This provides insights on whether patients can minimize their expenses by choosing specific pharmacy channels based on the tier of their medication).\n",
    "\n",
    "Do higher drug tiers show a disproportionate increase in out-of-pocket costs for patients compared to the jump between lower tiers?\n",
    "(This can indicate potential pain points or barriers to medication adherence for higher-tier and specialty drugs).\n",
    "\n",
    "Does the difference in cost between preferred and non-preferred pharmacy categories widen or narrow as tier increases?\n",
    "(This can inform policy on whether plan benefit differences are most impactful in certain tiers)"
   ]
  },
  {
   "cell_type": "code",
   "execution_count": 2,
   "id": "930d84d5",
   "metadata": {},
   "outputs": [],
   "source": [
    "import psycopg2\n",
    "import pandas as pd\n",
    "from dotenv import load_dotenv\n",
    "import os\n",
    "\n",
    "# Load environment variables from .env file\n",
    "load_dotenv()\n",
    "\n",
    "conn = psycopg2.connect(\n",
    "    host=os.getenv(\"DB_HOST\"),\n",
    "    port=os.getenv(\"DB_PORT\"),\n",
    "    dbname=os.getenv(\"DB_NAME\"),\n",
    "    user=os.getenv(\"DB_USER\"),\n",
    "    password=os.getenv(\"DB_PASSWORD\")\n",
    ")"
   ]
  },
  {
   "cell_type": "code",
   "execution_count": 3,
   "id": "63950111",
   "metadata": {},
   "outputs": [
    {
     "name": "stderr",
     "output_type": "stream",
     "text": [
      "C:\\Users\\amsub\\AppData\\Local\\Temp\\ipykernel_33744\\2377564603.py:12: UserWarning: pandas only supports SQLAlchemy connectable (engine/connection) or database string URI or sqlite3 DBAPI2 connection. Other DBAPI2 objects are not tested. Please consider using SQLAlchemy.\n",
      "  beneficiary_cost_df = pd.read_sql(beneficiary_query, conn)\n"
     ]
    }
   ],
   "source": [
    "# Query to load from beneficiary_cost table\n",
    "beneficiary_query = \"\"\"\n",
    "SELECT\n",
    "    tier,\n",
    "    cost_amt_pref,\n",
    "    cost_amt_nonpref,\n",
    "    cost_amt_mail_pref,\n",
    "    cost_amt_mail_nonpref\n",
    "FROM beneficiary_cost;\n",
    "\"\"\"\n",
    "\n",
    "beneficiary_cost_df = pd.read_sql(beneficiary_query, conn) "
   ]
  },
  {
   "cell_type": "code",
   "execution_count": 4,
   "id": "3fea6496",
   "metadata": {},
   "outputs": [
    {
     "name": "stdout",
     "output_type": "stream",
     "text": [
      "   tier  cost_amt_pref  cost_amt_nonpref  cost_amt_mail_pref  \\\n",
      "0     1            0.0               0.0                 0.0   \n",
      "1     1            0.0               0.0                 0.0   \n",
      "2     1            0.0               0.0                 0.0   \n",
      "3     2            0.0               0.0                 0.0   \n",
      "4     2            0.0               0.0                 0.0   \n",
      "\n",
      "   cost_amt_mail_nonpref  \n",
      "0                    0.0  \n",
      "1                    0.0  \n",
      "2                    0.0  \n",
      "3                    0.0  \n",
      "4                    0.0  \n"
     ]
    }
   ],
   "source": [
    "# Display sample to confirm load\n",
    "print(beneficiary_cost_df.head())"
   ]
  },
  {
   "cell_type": "code",
   "execution_count": 5,
   "id": "cb428d25",
   "metadata": {},
   "outputs": [
    {
     "name": "stdout",
     "output_type": "stream",
     "text": [
      "   tier  cost_amt_pref_mean  cost_amt_pref_median  cost_amt_nonpref_mean  \\\n",
      "0     1            0.276970                   0.0               3.279636   \n",
      "1     2            2.242419                   0.0              10.606758   \n",
      "2     3            7.779367                   0.0              19.968804   \n",
      "3     4            9.227639                   0.0              18.875071   \n",
      "4     5            0.051586                   0.0               0.095006   \n",
      "5     6            0.038287                   0.0               0.395716   \n",
      "6     7            0.000000                   0.0               0.037500   \n",
      "\n",
      "   cost_amt_nonpref_median  cost_amt_mail_pref_mean  \\\n",
      "0                      0.0                 0.148695   \n",
      "1                      0.0                 1.365691   \n",
      "2                      0.0                11.447159   \n",
      "3                      0.0                 9.081531   \n",
      "4                      0.0                 0.041179   \n",
      "5                      0.0                 0.034281   \n",
      "6                      0.0                 0.000000   \n",
      "\n",
      "   cost_amt_mail_pref_median  cost_amt_mail_nonpref_mean  \\\n",
      "0                        0.0                    3.679242   \n",
      "1                        0.0                   10.202234   \n",
      "2                        0.0                   17.713748   \n",
      "3                        0.0                   16.913195   \n",
      "4                        0.0                    0.083858   \n",
      "5                        0.0                    0.353803   \n",
      "6                        0.0                    0.018750   \n",
      "\n",
      "   cost_amt_mail_nonpref_median  \n",
      "0                           0.0  \n",
      "1                           0.0  \n",
      "2                           0.0  \n",
      "3                           0.0  \n",
      "4                           0.0  \n",
      "5                           0.0  \n",
      "6                           0.0  \n"
     ]
    }
   ],
   "source": [
    "# Assuming beneficiary_cost_df is already loaded\n",
    "\n",
    "# Group by 'tier' and calculate mean and median for cost columns\n",
    "agg_df = beneficiary_cost_df.groupby('tier').agg({\n",
    "    'cost_amt_pref': ['mean', 'median'],\n",
    "    'cost_amt_nonpref': ['mean', 'median'],\n",
    "    'cost_amt_mail_pref': ['mean', 'median'],\n",
    "    'cost_amt_mail_nonpref': ['mean', 'median']\n",
    "}).reset_index()\n",
    "\n",
    "# Flatten MultiIndex columns\n",
    "agg_df.columns = ['_'.join(col).strip('_') for col in agg_df.columns.values]\n",
    "\n",
    "print(agg_df)"
   ]
  },
  {
   "cell_type": "code",
   "execution_count": 6,
   "id": "3038acf8",
   "metadata": {},
   "outputs": [
    {
     "data": {
      "image/png": "[encoded data removed]",
      "text/plain": [
       "<Figure size 600x400 with 1 Axes>"
      ]
     },
     "metadata": {},
     "output_type": "display_data"
    }
   ],
   "source": [
    "import matplotlib.pyplot as plt\n",
    "import seaborn as sns\n",
    "\n",
    "# Reshape DataFrame for easier plotting\n",
    "melted = agg_df.melt(id_vars='tier', \n",
    "    value_vars=[\n",
    "        'cost_amt_pref_mean', 'cost_amt_pref_median',\n",
    "        'cost_amt_nonpref_mean', 'cost_amt_nonpref_median',\n",
    "        'cost_amt_mail_pref_mean', 'cost_amt_mail_pref_median',\n",
    "        'cost_amt_mail_nonpref_mean', 'cost_amt_mail_nonpref_median'\n",
    "    ],\n",
    "    var_name='cost_type_stat',\n",
    "    value_name='cost'\n",
    ")\n",
    "\n",
    "# Split 'cost_type_stat' into 'cost_type' and 'stat'\n",
    "melted[['cost_type', 'stat']] = melted['cost_type_stat'].str.rsplit('_', n=1, expand=True)\n",
    "cost_type_labels = {\n",
    "    'cost_amt_pref': 'Preferred',\n",
    "    'cost_amt_nonpref': 'Non-Preferred',\n",
    "    'cost_amt_mail_pref': 'Mail Preferred',\n",
    "    'cost_amt_mail_nonpref': 'Mail Non-Preferred'\n",
    "}\n",
    "melted['cost_type'] = melted['cost_type'].map(cost_type_labels)\n",
    "\n",
    "# Plot\n",
    "plt.figure(figsize=(6, 4))\n",
    "sns.barplot(\n",
    "    data=melted[melted['stat'] == 'mean'],\n",
    "    x='tier',\n",
    "    y='cost',\n",
    "    hue='cost_type'\n",
    ")\n",
    "plt.title('Mean Out-of-Pocket Amounts by Tier and Pharmacy Type')\n",
    "plt.xlabel('Drug Tier')\n",
    "plt.ylabel('Mean Out-of-Pocket Cost')\n",
    "plt.legend(title='Pharmacy Type')\n",
    "plt.tight_layout()\n",
    "plt.show()\n"
   ]
  },
  {
   "cell_type": "code",
   "execution_count": null,
   "id": "25ed20b2",
   "metadata": {},
   "outputs": [],
   "source": [
    "# Export the aggregated DataFrame to a JSON file\n",
    "agg_df.to_json('analyzing_patient_pocket.json', orient='records', indent=4)"
   ]
  },
  {
   "cell_type": "markdown",
   "id": "b7b669ff",
   "metadata": {},
   "source": [
    "How does average out-of-pocket cost change across drug tiers?\n",
    "The mean out-of-pocket cost increases substantially as drug tier level rises from 1 to 4 across all pharmacy types. The lowest tiers (1 and 2) have low average costs, indicating greater affordability. Tiers 3 and 4 see a large jump in patient costs, confirming that higher tiers are less affordable and lower tiers consistently favor patient savings.\n",
    "\n",
    "Are certain pharmacy types systematically less expensive?\n",
    "Yes, preferred pharmacy options (both retail and mail) show lower mean out-of-pocket costs than their non-preferred counterparts in all drug tiers. This pattern is consistent: for each tier, preferred options are always the most affordable channel for patients, while non-preferred pharmacy types are systematically more expensive at every step.\n",
    "\n",
    "Do higher tiers show disproportionate increases in cost?\n",
    "There is a sharp and disproportionate increase in mean out-of-pocket costs between tier 2 and tiers 3–4. Tiers 3 and 4 especially have mean costs that are several times higher than earlier tiers, indicating a significant barrier for patients requiring higher-tier (often branded or specialty) drugs.\n",
    "\n",
    "Does the difference in cost between preferred and non-preferred pharmacies change by tier?\n",
    "The cost gap between preferred and non-preferred pharmacy types widens notably as the tier increases. At lower tiers, the difference is minor, but in higher tiers, especially 3 and 4, non-preferred pharmacies are much more expensive than preferred options. This shows that plan design (pharmacy preference and tier) has its strongest financial impact at higher tiers, further penalizing patients who do not use preferred pharmacies for more expensive medicines."
   ]
  }
 ],
 "metadata": {
  "kernelspec": {
   "display_name": "us_formualry",
   "language": "python",
   "name": "python3"
  },
  "language_info": {
   "codemirror_mode": {
    "name": "ipython",
    "version": 3
   },
   "file_extension": ".py",
   "mimetype": "text/x-python",
   "name": "python",
   "nbconvert_exporter": "python",
   "pygments_lexer": "ipython3",
   "version": "3.13.5"
  }
 },
 "nbformat": 4,
 "nbformat_minor": 5
}
