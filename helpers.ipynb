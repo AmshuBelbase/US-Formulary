{
 "cells": [
  {
   "cell_type": "markdown",
   "id": "723d37d0",
   "metadata": {},
   "source": [
    "CONNECTION TO DB"
   ]
  },
  {
   "cell_type": "code",
   "execution_count": 1,
   "id": "eb48763f",
   "metadata": {},
   "outputs": [],
   "source": [
    "import psycopg2\n",
    "from dotenv import load_dotenv\n",
    "import os\n",
    "\n",
    "# Load environment variables from .env file\n",
    "load_dotenv()\n",
    "conn = None  # Global connection variable store\n"
   ]
  },
  {
   "cell_type": "code",
   "execution_count": 2,
   "id": "bea7a805",
   "metadata": {},
   "outputs": [],
   "source": [
    "def connect_db():\n",
    "    global conn\n",
    "    if conn is not None:\n",
    "        # Check if connection is still open\n",
    "        try:\n",
    "            cur = conn.cursor()\n",
    "            cur.execute('SELECT 1')\n",
    "            cur.close()\n",
    "            return conn  # Return existing valid connection\n",
    "        except (psycopg2.InterfaceError, psycopg2.OperationalError):\n",
    "            # Connection is closed or broken, so reset it\n",
    "            conn = None\n",
    "\n",
    "    # Create new connection if none exists or previous one failed\n",
    "    conn = psycopg2.connect(\n",
    "        host=os.getenv(\"DB_HOST\"),\n",
    "        port=os.getenv(\"DB_PORT\"),\n",
    "        dbname=os.getenv(\"DB_NAME\"),\n",
    "        user=os.getenv(\"DB_USER\"),\n",
    "        password=os.getenv(\"DB_PASSWORD\")\n",
    "    )\n",
    "    return conn\n",
    "\n",
    "# Usage example\n",
    "# Later, when you need a connection:\n",
    "conn = connect_db()"
   ]
  },
  {
   "cell_type": "markdown",
   "id": "e9d0f7b8",
   "metadata": {},
   "source": [
    "Connect and display structure and row count of all tables"
   ]
  },
  {
   "cell_type": "code",
   "execution_count": 13,
   "id": "5641811a",
   "metadata": {},
   "outputs": [
    {
     "name": "stdout",
     "output_type": "stream",
     "text": [
      "Table: plan_info\n",
      "  contract_id (character varying)\n",
      "  plan_id (character varying)\n",
      "  segment_id (character varying)\n",
      "  contract_name (character varying)\n",
      "  plan_name (character varying)\n",
      "  formulary_id (character varying)\n",
      "  premium (numeric)\n",
      "  deductible (integer)\n",
      "  ma_region_code (character varying)\n",
      "  pdp_region_code (character varying)\n",
      "  state (character)\n",
      "  county_code (character varying)\n",
      "  snp (integer)\n",
      "  plan_suppressed_yn (character)\n",
      "Rows: 115379\n",
      "\n"
     ]
    }
   ],
   "source": [
    "# ------------- Connect and display structure and row count of all tables\n",
    "\n",
    "tables = [\n",
    "    # \"geographic_locator\",\n",
    "    # \"basic_drugs_formulary\",\n",
    "    # \"users\",\n",
    "    # \"beneficiary_cost\",\n",
    "    \"plan_info\"\n",
    "]\n",
    "\n",
    "conn = connect_db()\n",
    "\n",
    "cur = conn.cursor()\n",
    "\n",
    "for table in tables:\n",
    "    print(f\"Table: {table}\")\n",
    "    \n",
    "    # Get table structure: column names and data types\n",
    "    cur.execute(f\"\"\"\n",
    "        SELECT column_name, data_type\n",
    "        FROM information_schema.columns\n",
    "        WHERE table_name = '{table}'\n",
    "        ORDER BY ordinal_position\n",
    "    \"\"\")\n",
    "    columns = cur.fetchall()\n",
    "    \n",
    "    for col in columns:\n",
    "        print(f\"  {col[0]} ({col[1]})\")\n",
    "    \n",
    "    # Get row count\n",
    "    cur.execute(f\"SELECT COUNT(*) FROM {table}\")\n",
    "    row_count = cur.fetchone()[0]\n",
    "    print(f\"Rows: {row_count}\\n\")\n",
    "\n",
    "cur.close()\n",
    "conn.close()"
   ]
  },
  {
   "cell_type": "markdown",
   "id": "e88c6d91",
   "metadata": {},
   "source": [
    "VIEW DATABASE VERSION"
   ]
  },
  {
   "cell_type": "code",
   "execution_count": 12,
   "id": "edf32038",
   "metadata": {},
   "outputs": [
    {
     "name": "stdout",
     "output_type": "stream",
     "text": [
      "Database version: ('PostgreSQL 17.4 on aarch64-unknown-linux-gnu, compiled by gcc (GCC) 12.4.0, 64-bit',)\n"
     ]
    }
   ],
   "source": [
    "conn = connect_db()\n",
    "\n",
    "# Create a cursor to perform database operations\n",
    "cur = conn.cursor()\n",
    "\n",
    "# Example query\n",
    "cur.execute(\"SELECT version();\")\n",
    "result = cur.fetchone()\n",
    "print(\"Database version:\", result)\n",
    "\n",
    "# Clean up\n",
    "cur.close()\n",
    "conn.close()"
   ]
  },
  {
   "cell_type": "markdown",
   "id": "64de6da8",
   "metadata": {},
   "source": [
    "Connect and display all tables"
   ]
  },
  {
   "cell_type": "code",
   "execution_count": 12,
   "id": "28817bb5",
   "metadata": {},
   "outputs": [
    {
     "name": "stdout",
     "output_type": "stream",
     "text": [
      "geographic_locator\n",
      "basic_drugs_formulary\n",
      "users\n",
      "beneficiary_cost\n",
      "plan_info\n"
     ]
    }
   ],
   "source": [
    "# ------------- Connect and display all tables\n",
    "conn = connect_db()\n",
    "\n",
    "cur = conn.cursor()\n",
    "\n",
    "# List all tables in the 'public' schema\n",
    "cur.execute(\"\"\"\n",
    "    SELECT table_name\n",
    "    FROM information_schema.tables\n",
    "    WHERE table_schema = 'public'\n",
    "\"\"\")\n",
    "\n",
    "tables = cur.fetchall()\n",
    "for table in tables:\n",
    "    print(table[0])\n",
    "\n",
    "cur.close()\n",
    "conn.close()"
   ]
  },
  {
   "cell_type": "markdown",
   "id": "938ff119",
   "metadata": {},
   "source": [
    "MODIFYING TABLE TO INCREASE VARCHAR LENGTH"
   ]
  },
  {
   "cell_type": "code",
   "execution_count": 6,
   "id": "78272a3f",
   "metadata": {},
   "outputs": [
    {
     "name": "stdout",
     "output_type": "stream",
     "text": [
      "('id', 'integer', None)\n",
      "('created_at', 'timestamp without time zone', None)\n",
      "('updated_at', 'timestamp without time zone', None)\n",
      "('oauth_provider', 'character varying', 50)\n",
      "('oauth_id', 'character varying', 200)\n",
      "('profile_pic_url', 'character varying', 500)\n",
      "('role', 'character varying', 50)\n",
      "('name', 'character varying', 100)\n",
      "('email', 'character varying', 150)\n"
     ]
    }
   ],
   "source": [
    "conn = connect_db()\n",
    "\n",
    "# Create a cursor to perform database operations\n",
    "cur = conn.cursor()\n",
    "\n",
    "\n",
    "\n",
    "# cur.execute(\"\"\"\n",
    "# ALTER TABLE geographic_locator \n",
    "#   ALTER COLUMN county_code TYPE varchar(500),\n",
    "#   ALTER COLUMN statename TYPE varchar(500),\n",
    "#   ALTER COLUMN county TYPE varchar(500),\n",
    "#   ALTER COLUMN ma_region_code TYPE varchar(500),\n",
    "#   ALTER COLUMN ma_region TYPE varchar(500),\n",
    "#   ALTER COLUMN pdp_region_code TYPE varchar(500),\n",
    "#   ALTER COLUMN pdp_region TYPE varchar(500);\n",
    "# \"\"\")\n",
    "\n",
    "# cur.execute(\"\"\"\n",
    "# ALTER TABLE basic_drugs_formulary \n",
    "# ALTER COLUMN QUANTITY_LIMIT_AMOUNT TYPE DECIMAL(7,2);\n",
    "# \"\"\")\n",
    "\n",
    "\n",
    "conn.commit()\n",
    "\n",
    "# Query for varchar columns and their max length\n",
    "cur.execute(\"\"\"\n",
    "    SELECT column_name, data_type, character_maximum_length\n",
    "    FROM information_schema.columns\n",
    "    WHERE table_name = 'users' \n",
    "\"\"\")\n",
    "\n",
    "for row in cur.fetchall():\n",
    "    print(row)  # Each row: (column_name, data_type, character_maximum_length)\n",
    "\n",
    "# Clean up\n",
    "# cur.close()\n",
    "conn.close()"
   ]
  },
  {
   "cell_type": "markdown",
   "id": "142d75b2",
   "metadata": {},
   "source": [
    "DELETING A TABLE"
   ]
  },
  {
   "cell_type": "code",
   "execution_count": 8,
   "id": "4fa7c5d4",
   "metadata": {},
   "outputs": [],
   "source": [
    "conn = connect_db()\n",
    "\n",
    "cur = conn.cursor()\n",
    "\n",
    "# Truncate the table\n",
    "cur.execute(\"DROP TABLE drugs_formulary_details CASCADE;\")\n",
    "\n",
    "# Commit your changes\n",
    "conn.commit()\n",
    "\n",
    "# Close the cursor and connection\n",
    "cur.close()\n",
    "conn.close()"
   ]
  },
  {
   "cell_type": "markdown",
   "id": "1899fb03",
   "metadata": {},
   "source": [
    "TRUNCATE THE TABLE"
   ]
  },
  {
   "cell_type": "code",
   "execution_count": null,
   "id": "0d4eb9cc",
   "metadata": {},
   "outputs": [],
   "source": [
    "conn = connect_db()\n",
    "cursor = conn.cursor()\n",
    "\n",
    "# Truncate the table\n",
    "cursor.execute(\"TRUNCATE TABLE formulary_info;\")\n",
    "\n",
    "# Commit your changes\n",
    "conn.commit()\n",
    "\n",
    "# Close the cursor and connection\n",
    "cursor.close()\n",
    "conn.close()"
   ]
  }
 ],
 "metadata": {
  "kernelspec": {
   "display_name": "us_formualry",
   "language": "python",
   "name": "python3"
  },
  "language_info": {
   "codemirror_mode": {
    "name": "ipython",
    "version": 3
   },
   "file_extension": ".py",
   "mimetype": "text/x-python",
   "name": "python",
   "nbconvert_exporter": "python",
   "pygments_lexer": "ipython3",
   "version": "3.13.5"
  }
 },
 "nbformat": 4,
 "nbformat_minor": 5
}
