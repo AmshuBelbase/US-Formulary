{
 "cells": [
  {
   "cell_type": "markdown",
   "id": "723d37d0",
   "metadata": {},
   "source": [
    "CONNECTION TO DB"
   ]
  },
  {
   "cell_type": "code",
   "execution_count": 2,
   "id": "eb48763f",
   "metadata": {},
   "outputs": [],
   "source": [
    "import psycopg2\n",
    "from dotenv import load_dotenv\n",
    "import os\n",
    "\n",
    "# Load environment variables from .env file\n",
    "load_dotenv()\n",
    "\n",
    "conn = psycopg2.connect(\n",
    "    host=os.getenv(\"DB_HOST\"),\n",
    "    port=os.getenv(\"DB_PORT\"),\n",
    "    dbname=os.getenv(\"DB_NAME\"),\n",
    "    user=os.getenv(\"DB_USER\"),\n",
    "    password=os.getenv(\"DB_PASSWORD\")\n",
    ")"
   ]
  },
  {
   "cell_type": "markdown",
   "id": "e88c6d91",
   "metadata": {},
   "source": [
    "VIEW DATABASE VERSION"
   ]
  },
  {
   "cell_type": "code",
   "execution_count": 2,
   "id": "edf32038",
   "metadata": {},
   "outputs": [
    {
     "name": "stdout",
     "output_type": "stream",
     "text": [
      "Database version: ('PostgreSQL 17.4 on aarch64-unknown-linux-gnu, compiled by gcc (GCC) 12.4.0, 64-bit',)\n"
     ]
    }
   ],
   "source": [
    "# Create a cursor to perform database operations\n",
    "cur = conn.cursor()\n",
    "\n",
    "# Example query\n",
    "cur.execute(\"SELECT version();\")\n",
    "result = cur.fetchone()\n",
    "print(\"Database version:\", result)\n",
    "\n",
    "# Clean up\n",
    "cur.close()\n",
    "conn.close()"
   ]
  },
  {
   "cell_type": "markdown",
   "id": "938ff119",
   "metadata": {},
   "source": [
    "MODIFYING TABLE TO INCREASE VARCHAR LENGTH"
   ]
  },
  {
   "cell_type": "code",
   "execution_count": 3,
   "id": "78272a3f",
   "metadata": {},
   "outputs": [
    {
     "name": "stdout",
     "output_type": "stream",
     "text": [
      "('county_code', 'character varying', 500)\n",
      "('statename', 'character varying', 500)\n",
      "('county', 'character varying', 500)\n",
      "('ma_region_code', 'character varying', 500)\n",
      "('ma_region', 'character varying', 500)\n",
      "('pdp_region_code', 'character varying', 500)\n",
      "('pdp_region', 'character varying', 500)\n"
     ]
    }
   ],
   "source": [
    "# Create a cursor to perform database operations\n",
    "cur = conn.cursor()\n",
    "\n",
    "cur.execute(\"\"\"\n",
    "ALTER TABLE geographic_locator \n",
    "  ALTER COLUMN county_code TYPE varchar(500),\n",
    "  ALTER COLUMN statename TYPE varchar(500),\n",
    "  ALTER COLUMN county TYPE varchar(500),\n",
    "  ALTER COLUMN ma_region_code TYPE varchar(500),\n",
    "  ALTER COLUMN ma_region TYPE varchar(500),\n",
    "  ALTER COLUMN pdp_region_code TYPE varchar(500),\n",
    "  ALTER COLUMN pdp_region TYPE varchar(500);\n",
    "\"\"\")\n",
    "conn.commit()\n",
    "\n",
    "# Query for varchar columns and their max length\n",
    "cur.execute(\"\"\"\n",
    "    SELECT column_name, data_type, character_maximum_length\n",
    "    FROM information_schema.columns\n",
    "    WHERE table_name = 'geographic_locator'\n",
    "      AND data_type = 'character varying'\n",
    "\"\"\")\n",
    "\n",
    "for row in cur.fetchall():\n",
    "    print(row)  # Each row: (column_name, data_type, character_maximum_length)\n",
    "\n",
    "# Clean up\n",
    "# cur.close()\n",
    "conn.close()"
   ]
  },
  {
   "cell_type": "markdown",
   "id": "1899fb03",
   "metadata": {},
   "source": [
    "TRUNCATE THE TABLE"
   ]
  },
  {
   "cell_type": "code",
   "execution_count": 12,
   "id": "0d4eb9cc",
   "metadata": {},
   "outputs": [],
   "source": [
    "cursor = conn.cursor()\n",
    "\n",
    "# Truncate the table\n",
    "cursor.execute(\"TRUNCATE TABLE geographic_locator;\")\n",
    "\n",
    "# Commit your changes\n",
    "conn.commit()\n",
    "\n",
    "# Close the cursor and connection\n",
    "cursor.close()\n",
    "conn.close()"
   ]
  }
 ],
 "metadata": {
  "kernelspec": {
   "display_name": "us_formualry",
   "language": "python",
   "name": "python3"
  },
  "language_info": {
   "codemirror_mode": {
    "name": "ipython",
    "version": 3
   },
   "file_extension": ".py",
   "mimetype": "text/x-python",
   "name": "python",
   "nbconvert_exporter": "python",
   "pygments_lexer": "ipython3",
   "version": "3.13.5"
  }
 },
 "nbformat": 4,
 "nbformat_minor": 5
}
